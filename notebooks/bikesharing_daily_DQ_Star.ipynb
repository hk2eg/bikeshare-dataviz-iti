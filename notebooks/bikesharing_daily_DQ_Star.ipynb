{
 "cells": [
  {
   "cell_type": "markdown",
   "id": "917b66b0",
   "metadata": {},
   "source": [
    "# Bike Sharing Daily Data:\n",
    "This notebook walks through:\n",
    "1. Exploring the `day.csv` dataset from the Bike Sharing Daily data.\n",
    "2. Checking and addressing issues across four data quality dimensions:\n",
    "   - Completeness\n",
    "   - Uniqueness\n",
    "   - Accuracy\n",
    "   - Consistency\n",
    "3. Transforming the cleaned data into a star schema:\n",
    "   - `dim_date`, `dim_season`, `dim_weather`, and `fact_daily_rentals`.\n",
    "4. Saving the resulting tables to CSV files."
   ]
  },
  {
   "cell_type": "markdown",
   "id": "de77738b",
   "metadata": {},
   "source": [
    "## 1. Imports and Data Loading"
   ]
  },
  {
   "cell_type": "code",
   "execution_count": 2,
   "id": "5a2f4763",
   "metadata": {},
   "outputs": [
    {
     "data": {
      "text/html": [
       "<div>\n",
       "<style scoped>\n",
       "    .dataframe tbody tr th:only-of-type {\n",
       "        vertical-align: middle;\n",
       "    }\n",
       "\n",
       "    .dataframe tbody tr th {\n",
       "        vertical-align: top;\n",
       "    }\n",
       "\n",
       "    .dataframe thead th {\n",
       "        text-align: right;\n",
       "    }\n",
       "</style>\n",
       "<table border=\"1\" class=\"dataframe\">\n",
       "  <thead>\n",
       "    <tr style=\"text-align: right;\">\n",
       "      <th></th>\n",
       "      <th>instant</th>\n",
       "      <th>dteday</th>\n",
       "      <th>season</th>\n",
       "      <th>yr</th>\n",
       "      <th>mnth</th>\n",
       "      <th>holiday</th>\n",
       "      <th>weekday</th>\n",
       "      <th>workingday</th>\n",
       "      <th>weathersit</th>\n",
       "      <th>temp</th>\n",
       "      <th>atemp</th>\n",
       "      <th>hum</th>\n",
       "      <th>windspeed</th>\n",
       "      <th>casual</th>\n",
       "      <th>registered</th>\n",
       "      <th>cnt</th>\n",
       "    </tr>\n",
       "  </thead>\n",
       "  <tbody>\n",
       "    <tr>\n",
       "      <th>0</th>\n",
       "      <td>1</td>\n",
       "      <td>2011-01-01</td>\n",
       "      <td>1</td>\n",
       "      <td>0</td>\n",
       "      <td>1</td>\n",
       "      <td>0</td>\n",
       "      <td>6</td>\n",
       "      <td>0</td>\n",
       "      <td>2</td>\n",
       "      <td>0.344167</td>\n",
       "      <td>0.363625</td>\n",
       "      <td>0.805833</td>\n",
       "      <td>0.160446</td>\n",
       "      <td>331</td>\n",
       "      <td>654</td>\n",
       "      <td>985</td>\n",
       "    </tr>\n",
       "    <tr>\n",
       "      <th>1</th>\n",
       "      <td>2</td>\n",
       "      <td>2011-01-02</td>\n",
       "      <td>1</td>\n",
       "      <td>0</td>\n",
       "      <td>1</td>\n",
       "      <td>0</td>\n",
       "      <td>0</td>\n",
       "      <td>0</td>\n",
       "      <td>2</td>\n",
       "      <td>0.363478</td>\n",
       "      <td>0.353739</td>\n",
       "      <td>0.696087</td>\n",
       "      <td>0.248539</td>\n",
       "      <td>131</td>\n",
       "      <td>670</td>\n",
       "      <td>801</td>\n",
       "    </tr>\n",
       "    <tr>\n",
       "      <th>2</th>\n",
       "      <td>3</td>\n",
       "      <td>2011-01-03</td>\n",
       "      <td>1</td>\n",
       "      <td>0</td>\n",
       "      <td>1</td>\n",
       "      <td>0</td>\n",
       "      <td>1</td>\n",
       "      <td>1</td>\n",
       "      <td>1</td>\n",
       "      <td>0.196364</td>\n",
       "      <td>0.189405</td>\n",
       "      <td>0.437273</td>\n",
       "      <td>0.248309</td>\n",
       "      <td>120</td>\n",
       "      <td>1229</td>\n",
       "      <td>1349</td>\n",
       "    </tr>\n",
       "    <tr>\n",
       "      <th>3</th>\n",
       "      <td>4</td>\n",
       "      <td>2011-01-04</td>\n",
       "      <td>1</td>\n",
       "      <td>0</td>\n",
       "      <td>1</td>\n",
       "      <td>0</td>\n",
       "      <td>2</td>\n",
       "      <td>1</td>\n",
       "      <td>1</td>\n",
       "      <td>0.200000</td>\n",
       "      <td>0.212122</td>\n",
       "      <td>0.590435</td>\n",
       "      <td>0.160296</td>\n",
       "      <td>108</td>\n",
       "      <td>1454</td>\n",
       "      <td>1562</td>\n",
       "    </tr>\n",
       "    <tr>\n",
       "      <th>4</th>\n",
       "      <td>5</td>\n",
       "      <td>2011-01-05</td>\n",
       "      <td>1</td>\n",
       "      <td>0</td>\n",
       "      <td>1</td>\n",
       "      <td>0</td>\n",
       "      <td>3</td>\n",
       "      <td>1</td>\n",
       "      <td>1</td>\n",
       "      <td>0.226957</td>\n",
       "      <td>0.229270</td>\n",
       "      <td>0.436957</td>\n",
       "      <td>0.186900</td>\n",
       "      <td>82</td>\n",
       "      <td>1518</td>\n",
       "      <td>1600</td>\n",
       "    </tr>\n",
       "  </tbody>\n",
       "</table>\n",
       "</div>"
      ],
      "text/plain": [
       "   instant     dteday  season  yr  mnth  holiday  weekday  workingday  \\\n",
       "0        1 2011-01-01       1   0     1        0        6           0   \n",
       "1        2 2011-01-02       1   0     1        0        0           0   \n",
       "2        3 2011-01-03       1   0     1        0        1           1   \n",
       "3        4 2011-01-04       1   0     1        0        2           1   \n",
       "4        5 2011-01-05       1   0     1        0        3           1   \n",
       "\n",
       "   weathersit      temp     atemp       hum  windspeed  casual  registered  \\\n",
       "0           2  0.344167  0.363625  0.805833   0.160446     331         654   \n",
       "1           2  0.363478  0.353739  0.696087   0.248539     131         670   \n",
       "2           1  0.196364  0.189405  0.437273   0.248309     120        1229   \n",
       "3           1  0.200000  0.212122  0.590435   0.160296     108        1454   \n",
       "4           1  0.226957  0.229270  0.436957   0.186900      82        1518   \n",
       "\n",
       "    cnt  \n",
       "0   985  \n",
       "1   801  \n",
       "2  1349  \n",
       "3  1562  \n",
       "4  1600  "
      ]
     },
     "metadata": {},
     "output_type": "display_data"
    }
   ],
   "source": [
    "import pandas as pd\n",
    "\n",
    "# Load the daily data\n",
    "df = pd.read_csv('Dataset/day.csv', parse_dates=['dteday'])\n",
    "display(df.head())"
   ]
  },
  {
   "cell_type": "markdown",
   "id": "42945b69",
   "metadata": {},
   "source": [
    "## 2. Overview of the Data"
   ]
  },
  {
   "cell_type": "code",
   "execution_count": 3,
   "id": "0f0f1b15",
   "metadata": {},
   "outputs": [
    {
     "name": "stdout",
     "output_type": "stream",
     "text": [
      "<class 'pandas.core.frame.DataFrame'>\n",
      "RangeIndex: 731 entries, 0 to 730\n",
      "Data columns (total 16 columns):\n",
      " #   Column      Non-Null Count  Dtype         \n",
      "---  ------      --------------  -----         \n",
      " 0   instant     731 non-null    int64         \n",
      " 1   dteday      731 non-null    datetime64[ns]\n",
      " 2   season      731 non-null    int64         \n",
      " 3   yr          731 non-null    int64         \n",
      " 4   mnth        731 non-null    int64         \n",
      " 5   holiday     731 non-null    int64         \n",
      " 6   weekday     731 non-null    int64         \n",
      " 7   workingday  731 non-null    int64         \n",
      " 8   weathersit  731 non-null    int64         \n",
      " 9   temp        731 non-null    float64       \n",
      " 10  atemp       731 non-null    float64       \n",
      " 11  hum         731 non-null    float64       \n",
      " 12  windspeed   731 non-null    float64       \n",
      " 13  casual      731 non-null    int64         \n",
      " 14  registered  731 non-null    int64         \n",
      " 15  cnt         731 non-null    int64         \n",
      "dtypes: datetime64[ns](1), float64(4), int64(11)\n",
      "memory usage: 91.5 KB\n"
     ]
    },
    {
     "data": {
      "text/plain": [
       "None"
      ]
     },
     "metadata": {},
     "output_type": "display_data"
    },
    {
     "data": {
      "text/html": [
       "<div>\n",
       "<style scoped>\n",
       "    .dataframe tbody tr th:only-of-type {\n",
       "        vertical-align: middle;\n",
       "    }\n",
       "\n",
       "    .dataframe tbody tr th {\n",
       "        vertical-align: top;\n",
       "    }\n",
       "\n",
       "    .dataframe thead th {\n",
       "        text-align: right;\n",
       "    }\n",
       "</style>\n",
       "<table border=\"1\" class=\"dataframe\">\n",
       "  <thead>\n",
       "    <tr style=\"text-align: right;\">\n",
       "      <th></th>\n",
       "      <th>instant</th>\n",
       "      <th>dteday</th>\n",
       "      <th>season</th>\n",
       "      <th>yr</th>\n",
       "      <th>mnth</th>\n",
       "      <th>holiday</th>\n",
       "      <th>weekday</th>\n",
       "      <th>workingday</th>\n",
       "      <th>weathersit</th>\n",
       "      <th>temp</th>\n",
       "      <th>atemp</th>\n",
       "      <th>hum</th>\n",
       "      <th>windspeed</th>\n",
       "      <th>casual</th>\n",
       "      <th>registered</th>\n",
       "      <th>cnt</th>\n",
       "    </tr>\n",
       "  </thead>\n",
       "  <tbody>\n",
       "    <tr>\n",
       "      <th>count</th>\n",
       "      <td>731.000000</td>\n",
       "      <td>731</td>\n",
       "      <td>731.000000</td>\n",
       "      <td>731.000000</td>\n",
       "      <td>731.000000</td>\n",
       "      <td>731.000000</td>\n",
       "      <td>731.000000</td>\n",
       "      <td>731.000000</td>\n",
       "      <td>731.000000</td>\n",
       "      <td>731.000000</td>\n",
       "      <td>731.000000</td>\n",
       "      <td>731.000000</td>\n",
       "      <td>731.000000</td>\n",
       "      <td>731.000000</td>\n",
       "      <td>731.000000</td>\n",
       "      <td>731.000000</td>\n",
       "    </tr>\n",
       "    <tr>\n",
       "      <th>mean</th>\n",
       "      <td>366.000000</td>\n",
       "      <td>2012-01-01 00:00:00</td>\n",
       "      <td>2.496580</td>\n",
       "      <td>0.500684</td>\n",
       "      <td>6.519836</td>\n",
       "      <td>0.028728</td>\n",
       "      <td>2.997264</td>\n",
       "      <td>0.683995</td>\n",
       "      <td>1.395349</td>\n",
       "      <td>0.495385</td>\n",
       "      <td>0.474354</td>\n",
       "      <td>0.627894</td>\n",
       "      <td>0.190486</td>\n",
       "      <td>848.176471</td>\n",
       "      <td>3656.172367</td>\n",
       "      <td>4504.348837</td>\n",
       "    </tr>\n",
       "    <tr>\n",
       "      <th>min</th>\n",
       "      <td>1.000000</td>\n",
       "      <td>2011-01-01 00:00:00</td>\n",
       "      <td>1.000000</td>\n",
       "      <td>0.000000</td>\n",
       "      <td>1.000000</td>\n",
       "      <td>0.000000</td>\n",
       "      <td>0.000000</td>\n",
       "      <td>0.000000</td>\n",
       "      <td>1.000000</td>\n",
       "      <td>0.059130</td>\n",
       "      <td>0.079070</td>\n",
       "      <td>0.000000</td>\n",
       "      <td>0.022392</td>\n",
       "      <td>2.000000</td>\n",
       "      <td>20.000000</td>\n",
       "      <td>22.000000</td>\n",
       "    </tr>\n",
       "    <tr>\n",
       "      <th>25%</th>\n",
       "      <td>183.500000</td>\n",
       "      <td>2011-07-02 12:00:00</td>\n",
       "      <td>2.000000</td>\n",
       "      <td>0.000000</td>\n",
       "      <td>4.000000</td>\n",
       "      <td>0.000000</td>\n",
       "      <td>1.000000</td>\n",
       "      <td>0.000000</td>\n",
       "      <td>1.000000</td>\n",
       "      <td>0.337083</td>\n",
       "      <td>0.337842</td>\n",
       "      <td>0.520000</td>\n",
       "      <td>0.134950</td>\n",
       "      <td>315.500000</td>\n",
       "      <td>2497.000000</td>\n",
       "      <td>3152.000000</td>\n",
       "    </tr>\n",
       "    <tr>\n",
       "      <th>50%</th>\n",
       "      <td>366.000000</td>\n",
       "      <td>2012-01-01 00:00:00</td>\n",
       "      <td>3.000000</td>\n",
       "      <td>1.000000</td>\n",
       "      <td>7.000000</td>\n",
       "      <td>0.000000</td>\n",
       "      <td>3.000000</td>\n",
       "      <td>1.000000</td>\n",
       "      <td>1.000000</td>\n",
       "      <td>0.498333</td>\n",
       "      <td>0.486733</td>\n",
       "      <td>0.626667</td>\n",
       "      <td>0.180975</td>\n",
       "      <td>713.000000</td>\n",
       "      <td>3662.000000</td>\n",
       "      <td>4548.000000</td>\n",
       "    </tr>\n",
       "    <tr>\n",
       "      <th>75%</th>\n",
       "      <td>548.500000</td>\n",
       "      <td>2012-07-01 12:00:00</td>\n",
       "      <td>3.000000</td>\n",
       "      <td>1.000000</td>\n",
       "      <td>10.000000</td>\n",
       "      <td>0.000000</td>\n",
       "      <td>5.000000</td>\n",
       "      <td>1.000000</td>\n",
       "      <td>2.000000</td>\n",
       "      <td>0.655417</td>\n",
       "      <td>0.608602</td>\n",
       "      <td>0.730209</td>\n",
       "      <td>0.233214</td>\n",
       "      <td>1096.000000</td>\n",
       "      <td>4776.500000</td>\n",
       "      <td>5956.000000</td>\n",
       "    </tr>\n",
       "    <tr>\n",
       "      <th>max</th>\n",
       "      <td>731.000000</td>\n",
       "      <td>2012-12-31 00:00:00</td>\n",
       "      <td>4.000000</td>\n",
       "      <td>1.000000</td>\n",
       "      <td>12.000000</td>\n",
       "      <td>1.000000</td>\n",
       "      <td>6.000000</td>\n",
       "      <td>1.000000</td>\n",
       "      <td>3.000000</td>\n",
       "      <td>0.861667</td>\n",
       "      <td>0.840896</td>\n",
       "      <td>0.972500</td>\n",
       "      <td>0.507463</td>\n",
       "      <td>3410.000000</td>\n",
       "      <td>6946.000000</td>\n",
       "      <td>8714.000000</td>\n",
       "    </tr>\n",
       "    <tr>\n",
       "      <th>std</th>\n",
       "      <td>211.165812</td>\n",
       "      <td>NaN</td>\n",
       "      <td>1.110807</td>\n",
       "      <td>0.500342</td>\n",
       "      <td>3.451913</td>\n",
       "      <td>0.167155</td>\n",
       "      <td>2.004787</td>\n",
       "      <td>0.465233</td>\n",
       "      <td>0.544894</td>\n",
       "      <td>0.183051</td>\n",
       "      <td>0.162961</td>\n",
       "      <td>0.142429</td>\n",
       "      <td>0.077498</td>\n",
       "      <td>686.622488</td>\n",
       "      <td>1560.256377</td>\n",
       "      <td>1937.211452</td>\n",
       "    </tr>\n",
       "  </tbody>\n",
       "</table>\n",
       "</div>"
      ],
      "text/plain": [
       "          instant               dteday      season          yr        mnth  \\\n",
       "count  731.000000                  731  731.000000  731.000000  731.000000   \n",
       "mean   366.000000  2012-01-01 00:00:00    2.496580    0.500684    6.519836   \n",
       "min      1.000000  2011-01-01 00:00:00    1.000000    0.000000    1.000000   \n",
       "25%    183.500000  2011-07-02 12:00:00    2.000000    0.000000    4.000000   \n",
       "50%    366.000000  2012-01-01 00:00:00    3.000000    1.000000    7.000000   \n",
       "75%    548.500000  2012-07-01 12:00:00    3.000000    1.000000   10.000000   \n",
       "max    731.000000  2012-12-31 00:00:00    4.000000    1.000000   12.000000   \n",
       "std    211.165812                  NaN    1.110807    0.500342    3.451913   \n",
       "\n",
       "          holiday     weekday  workingday  weathersit        temp       atemp  \\\n",
       "count  731.000000  731.000000  731.000000  731.000000  731.000000  731.000000   \n",
       "mean     0.028728    2.997264    0.683995    1.395349    0.495385    0.474354   \n",
       "min      0.000000    0.000000    0.000000    1.000000    0.059130    0.079070   \n",
       "25%      0.000000    1.000000    0.000000    1.000000    0.337083    0.337842   \n",
       "50%      0.000000    3.000000    1.000000    1.000000    0.498333    0.486733   \n",
       "75%      0.000000    5.000000    1.000000    2.000000    0.655417    0.608602   \n",
       "max      1.000000    6.000000    1.000000    3.000000    0.861667    0.840896   \n",
       "std      0.167155    2.004787    0.465233    0.544894    0.183051    0.162961   \n",
       "\n",
       "              hum   windspeed       casual   registered          cnt  \n",
       "count  731.000000  731.000000   731.000000   731.000000   731.000000  \n",
       "mean     0.627894    0.190486   848.176471  3656.172367  4504.348837  \n",
       "min      0.000000    0.022392     2.000000    20.000000    22.000000  \n",
       "25%      0.520000    0.134950   315.500000  2497.000000  3152.000000  \n",
       "50%      0.626667    0.180975   713.000000  3662.000000  4548.000000  \n",
       "75%      0.730209    0.233214  1096.000000  4776.500000  5956.000000  \n",
       "max      0.972500    0.507463  3410.000000  6946.000000  8714.000000  \n",
       "std      0.142429    0.077498   686.622488  1560.256377  1937.211452  "
      ]
     },
     "metadata": {},
     "output_type": "display_data"
    }
   ],
   "source": [
    "# Basic info and description\n",
    "display(df.info())\n",
    "display(df.describe(include='all'))"
   ]
  },
  {
   "cell_type": "markdown",
   "id": "b861e2d6",
   "metadata": {},
   "source": [
    "## 3. Data Quality Checks"
   ]
  },
  {
   "cell_type": "markdown",
   "id": "a41a2199",
   "metadata": {},
   "source": [
    "### 3.1 Completeness\n",
    "Check for missing values in each column."
   ]
  },
  {
   "cell_type": "code",
   "execution_count": 4,
   "id": "9afad856",
   "metadata": {},
   "outputs": [
    {
     "data": {
      "text/plain": [
       "instant       0\n",
       "dteday        0\n",
       "season        0\n",
       "yr            0\n",
       "mnth          0\n",
       "holiday       0\n",
       "weekday       0\n",
       "workingday    0\n",
       "weathersit    0\n",
       "temp          0\n",
       "atemp         0\n",
       "hum           0\n",
       "windspeed     0\n",
       "casual        0\n",
       "registered    0\n",
       "cnt           0\n",
       "dtype: int64"
      ]
     },
     "metadata": {},
     "output_type": "display_data"
    }
   ],
   "source": [
    "null_counts = df.isnull().sum()\n",
    "display(null_counts)"
   ]
  },
  {
   "cell_type": "markdown",
   "id": "ffae3111",
   "metadata": {},
   "source": [
    "### 3.2 Uniqueness\n",
    "Check for duplicate records at the row level."
   ]
  },
  {
   "cell_type": "code",
   "execution_count": 5,
   "id": "a8a5e6c9",
   "metadata": {},
   "outputs": [
    {
     "name": "stdout",
     "output_type": "stream",
     "text": [
      "Duplicate rows: 0\n"
     ]
    }
   ],
   "source": [
    "dup_count = df.duplicated().sum()\n",
    "print(f'Duplicate rows: {dup_count}')"
   ]
  },
  {
   "cell_type": "markdown",
   "id": "68cba5fd",
   "metadata": {},
   "source": [
    "### 3.3 Accuracy\n",
    "Verify numeric ranges: temperature [0,1], humidity [0,1], windspeed [0,1], season and weather codes valid."
   ]
  },
  {
   "cell_type": "code",
   "execution_count": 6,
   "id": "192ea7ce",
   "metadata": {},
   "outputs": [
    {
     "data": {
      "text/plain": [
       "{'temp_range': np.True_,\n",
       " 'hum_range': np.True_,\n",
       " 'windspeed_range': np.True_,\n",
       " 'season_codes': {np.int64(1), np.int64(2), np.int64(3), np.int64(4)},\n",
       " 'weather_codes': {np.int64(1), np.int64(2), np.int64(3)}}"
      ]
     },
     "metadata": {},
     "output_type": "display_data"
    }
   ],
   "source": [
    "accuracy_checks = {\n",
    "    'temp_range': df['temp'].between(0, 1).all(),\n",
    "    'hum_range': df['hum'].between(0, 1).all(),\n",
    "    'windspeed_range': df['windspeed'].between(0, 1).all(),\n",
    "    'season_codes': set(df['season'].unique()),\n",
    "    'weather_codes': set(df['weathersit'].unique())\n",
    "}\n",
    "display(accuracy_checks)"
   ]
  },
  {
   "cell_type": "markdown",
   "id": "1ea8c383",
   "metadata": {},
   "source": [
    "### 3.4 Consistency\n",
    "Ensure categorical codes match expected mappings."
   ]
  },
  {
   "cell_type": "code",
   "execution_count": 17,
   "id": "2f1ce098",
   "metadata": {},
   "outputs": [
    {
     "name": "stdout",
     "output_type": "stream",
     "text": [
      "Season codes consistent: True\n",
      "Weather codes consistent: True\n"
     ]
    }
   ],
   "source": [
    "expected_seasons = {1,2,3,4}\n",
    "expected_weathers = {1,2,3,4}\n",
    "print('Season codes consistent:', set(df['season'].unique()) <= expected_seasons)\n",
    "print('Weather codes consistent:', set(df['weathersit'].unique()) <= expected_weathers)"
   ]
  },
  {
   "cell_type": "markdown",
   "id": "f449f11f",
   "metadata": {},
   "source": [
    "#### 3.5 Denormalizing temp, atemp, hum, and windspeed"
   ]
  },
  {
   "cell_type": "code",
   "execution_count": 18,
   "id": "b78363ae",
   "metadata": {},
   "outputs": [],
   "source": [
    "# temp_norm = (t_actual – t_min)/(t_max – t_min),  t_min = –8 °C, t_max = +39 °C\n",
    "df['temp_c'] = df['temp'] * (39 - (-8)) + (-8)\n",
    "\n",
    "# atemp_norm = (t_actual – t_min)/(t_max – t_min),  t_min = –16 °C, t_max = +50 °C\n",
    "df['atemp_c'] = df['atemp'] * (50 - (-16)) + (-16)\n",
    "\n",
    "# hum_norm = humidity_percent/100\n",
    "df['humidity_pct'] = df['hum'] * 100\n",
    "\n",
    "# windspeed_norm = windspeed_mph/67  (67 mph is the historical max)\n",
    "df['windspeed_mph'] = df['windspeed'] * 67"
   ]
  },
  {
   "cell_type": "markdown",
   "id": "77595834",
   "metadata": {},
   "source": [
    "## 4. Transform to Star Schema"
   ]
  },
  {
   "cell_type": "markdown",
   "id": "1e748e63",
   "metadata": {},
   "source": [
    "### 4.1 Build `dim_date`"
   ]
  },
  {
   "cell_type": "code",
   "execution_count": 19,
   "id": "e043b97e",
   "metadata": {},
   "outputs": [],
   "source": [
    "# Create date dimension\n",
    "date_df = pd.DataFrame({'date': pd.date_range(start=df['dteday'].min(), end=df['dteday'].max(), freq='D')})\n",
    "date_df['date_key'] = date_df['date'].dt.strftime('%Y%m%d').astype(int)\n",
    "date_df['year'] = date_df['date'].dt.year\n",
    "date_df['quarter'] = date_df['date'].dt.quarter\n",
    "date_df['month'] = date_df['date'].dt.month\n",
    "date_df['day'] = date_df['date'].dt.day\n",
    "date_df['weekday'] = date_df['date'].dt.weekday + 1  # 1=Monday\n",
    "date_df['is_holiday'] = df[['dteday','holiday']].drop_duplicates().set_index('dteday')['holiday'].reindex(date_df['date']).fillna(0).astype(int).values\n",
    "date_df['is_working'] = df[['dteday','workingday']].drop_duplicates().set_index('dteday')['workingday'].reindex(date_df['date']).fillna(0).astype(int).values\n"
   ]
  },
  {
   "cell_type": "markdown",
   "id": "a446e0db",
   "metadata": {},
   "source": [
    "### 4.2 Build `dim_season`"
   ]
  },
  {
   "cell_type": "code",
   "execution_count": 20,
   "id": "9219c407",
   "metadata": {},
   "outputs": [],
   "source": [
    "# Season dimension mapping\n",
    "dim_season = pd.DataFrame({\n",
    "    'season_id': [1,2,3,4],\n",
    "    'season_name': ['Spring','Summer','Fall','Winter']\n",
    "})"
   ]
  },
  {
   "cell_type": "markdown",
   "id": "eb8424e0",
   "metadata": {},
   "source": [
    "### 4.3 Build `dim_weather`"
   ]
  },
  {
   "cell_type": "code",
   "execution_count": 21,
   "id": "541ed48b",
   "metadata": {},
   "outputs": [],
   "source": [
    "# Weather dimension mapping\n",
    "dim_weather = pd.DataFrame({\n",
    "    'weather_id': [1,2,3,4],\n",
    "    'weather_desc': [\n",
    "        'Clear/Partly Cloudy',\n",
    "        'Mist/Cloudy',\n",
    "        'Light Rain/Snow',\n",
    "        'Heavy Rain/Snow/Storm'\n",
    "    ]\n",
    "})"
   ]
  },
  {
   "cell_type": "markdown",
   "id": "00a66d8f",
   "metadata": {},
   "source": [
    "### 4.4 Build `fact_daily_rentals`"
   ]
  },
  {
   "cell_type": "code",
   "execution_count": 22,
   "id": "34fde1be",
   "metadata": {},
   "outputs": [],
   "source": [
    "# Fact table creation\n",
    "fact = pd.DataFrame({\n",
    "    'date_key': df['dteday'].dt.strftime('%Y%m%d').astype(int),\n",
    "    'season_id': df['season'],\n",
    "    'weather_id': df['weathersit'],\n",
    "    'casual_count': df['casual'],\n",
    "    'registered_count': df['registered'],\n",
    "    'total_count': df['cnt'],\n",
    "    'temp_c': df['temp_c'],\n",
    "    'atemp_c': df['atemp_c'],\n",
    "    'humidity_pct': df['humidity_pct'],\n",
    "    'windspeed_mph': df['windspeed_mph']\n",
    "})"
   ]
  },
  {
   "cell_type": "markdown",
   "id": "34433273",
   "metadata": {},
   "source": [
    "## 5. Save Schema to CSV Files"
   ]
  },
  {
   "cell_type": "code",
   "execution_count": 23,
   "id": "13edac10",
   "metadata": {},
   "outputs": [
    {
     "name": "stdout",
     "output_type": "stream",
     "text": [
      "All tables saved to CSV.\n"
     ]
    }
   ],
   "source": [
    "# Save each table to CSV\n",
    "date_df.to_csv('dim_date.csv', index=False)\n",
    "dim_season.to_csv('dim_season.csv', index=False)\n",
    "dim_weather.to_csv('dim_weather.csv', index=False)\n",
    "fact.to_csv('fact_daily_rentals.csv', index=False)\n",
    "print('All tables saved to CSV.')"
   ]
  }
 ],
 "metadata": {
  "kernelspec": {
   "display_name": "base",
   "language": "python",
   "name": "python3"
  },
  "language_info": {
   "codemirror_mode": {
    "name": "ipython",
    "version": 3
   },
   "file_extension": ".py",
   "mimetype": "text/x-python",
   "name": "python",
   "nbconvert_exporter": "python",
   "pygments_lexer": "ipython3",
   "version": "3.12.9"
  }
 },
 "nbformat": 4,
 "nbformat_minor": 5
}
